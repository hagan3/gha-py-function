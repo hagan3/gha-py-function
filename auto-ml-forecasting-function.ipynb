{
 "cells": [
  {
   "cell_type": "markdown",
   "metadata": {},
   "source": [
    "# Automated Machine Learning\n",
    "\n",
    "#### Forecasting away from training data\n",
    "\n",
    "\n",
    "## Contents\n",
    "1. [Introduction](#Introduction)\n",
    "2. [Setup](#Setup)\n",
    "3. [Data](#Data)\n",
    "4. [Prepare remote compute and data.](#prepare_remote)\n",
    "4. [Create the configuration and train a forecaster](#train)\n",
    "5. [Forecasting from the trained model](#forecasting)\n",
    "6. [Forecasting away from training data](#forecasting_away)"
   ]
  },
  {
   "cell_type": "markdown",
   "metadata": {},
   "source": [
    "## Introduction\n",
    "This notebook demonstrates the full interface of the `forecast()` function. \n",
    "\n",
    "The best known and most frequent usage of `forecast` enables forecasting on test sets that immediately follows training data. \n",
    "\n",
    "However, in many use cases it is necessary to continue using the model for some time before retraining it. This happens especially in **high frequency forecasting** when forecasts need to be made more frequently than the model can be retrained. Examples are in Internet of Things and predictive cloud resource scaling.\n",
    "\n",
    "Here we show how to use the `forecast()` function when a time gap exists between training data and prediction period.\n",
    "\n",
    "Terminology:\n",
    "* forecast origin: the last period when the target value is known\n",
    "* forecast periods(s): the period(s) for which the value of the target is desired.\n",
    "* lookback: how many past periods (before forecast origin) the model function depends on. The larger of number of lags and length of rolling window.\n",
    "* prediction context: `lookback` periods immediately preceding the forecast origin\n",
    "\n",
    "![Impressions](https://PixelServer20190423114238.azurewebsites.net/api/impressions/MachineLearningNotebooks/how-to-use-azureml/automated-machine-learning/automl-forecasting-function.png)"
   ]
  },
  {
   "cell_type": "markdown",
   "metadata": {},
   "source": [
    "## Setup"
   ]
  },
  {
   "cell_type": "markdown",
   "metadata": {},
   "source": [
    "Please make sure you have followed the `configuration.ipynb` notebook so that your ML workspace information is saved in the config file."
   ]
  },
  {
   "cell_type": "code",
   "execution_count": 1,
   "metadata": {},
   "outputs": [],
   "source": [
    "import os\n",
    "import pandas as pd\n",
    "import numpy as np\n",
    "import logging\n",
    "import warnings\n",
    "\n",
    "import azureml.core\n",
    "from azureml.core.dataset import Dataset\n",
    "from pandas.tseries.frequencies import to_offset\n",
    "from azureml.core.compute import AmlCompute\n",
    "from azureml.core.compute import ComputeTarget\n",
    "from azureml.core.runconfig import RunConfiguration\n",
    "from azureml.core.conda_dependencies import CondaDependencies\n",
    "\n",
    "# Squash warning messages for cleaner output in the notebook\n",
    "warnings.showwarning = lambda *args, **kwargs: None\n",
    "\n",
    "np.set_printoptions(precision=4, suppress=True, linewidth=120)"
   ]
  },
  {
   "cell_type": "markdown",
   "metadata": {},
   "source": [
    "This sample notebook may use features that are not available in previous versions of the Azure ML SDK."
   ]
  },
  {
   "cell_type": "code",
   "execution_count": 2,
   "metadata": {},
   "outputs": [
    {
     "name": "stdout",
     "output_type": "stream",
     "text": [
      "This notebook was created using version 1.24.0 of the Azure ML SDK\n",
      "You are currently using version 1.18.0 of the Azure ML SDK\n"
     ]
    }
   ],
   "source": [
    "print(\"This notebook was created using version 1.24.0 of the Azure ML SDK\")\n",
    "print(\"You are currently using version\", azureml.core.VERSION, \"of the Azure ML SDK\")"
   ]
  },
  {
   "cell_type": "code",
   "execution_count": 3,
   "metadata": {},
   "outputs": [
    {
     "data": {
      "text/html": [
       "<div>\n",
       "<style scoped>\n",
       "    .dataframe tbody tr th:only-of-type {\n",
       "        vertical-align: middle;\n",
       "    }\n",
       "\n",
       "    .dataframe tbody tr th {\n",
       "        vertical-align: top;\n",
       "    }\n",
       "\n",
       "    .dataframe thead th {\n",
       "        text-align: right;\n",
       "    }\n",
       "</style>\n",
       "<table border=\"1\" class=\"dataframe\">\n",
       "  <thead>\n",
       "    <tr style=\"text-align: right;\">\n",
       "      <th></th>\n",
       "      <th></th>\n",
       "    </tr>\n",
       "  </thead>\n",
       "  <tbody>\n",
       "    <tr>\n",
       "      <th>Subscription ID</th>\n",
       "      <td>b54182d2-60c0-4e34-b1ab-499a3394771d</td>\n",
       "    </tr>\n",
       "    <tr>\n",
       "      <th>Workspace</th>\n",
       "      <td>iww_workspace</td>\n",
       "    </tr>\n",
       "    <tr>\n",
       "      <th>SKU</th>\n",
       "      <td>Basic</td>\n",
       "    </tr>\n",
       "    <tr>\n",
       "      <th>Resource Group</th>\n",
       "      <td>iww_sandbox</td>\n",
       "    </tr>\n",
       "    <tr>\n",
       "      <th>Location</th>\n",
       "      <td>canadacentral</td>\n",
       "    </tr>\n",
       "    <tr>\n",
       "      <th>Run History Name</th>\n",
       "      <td>automl-forecast-function-demo</td>\n",
       "    </tr>\n",
       "  </tbody>\n",
       "</table>\n",
       "</div>"
      ],
      "text/plain": [
       "                                                      \n",
       "Subscription ID   b54182d2-60c0-4e34-b1ab-499a3394771d\n",
       "Workspace         iww_workspace                       \n",
       "SKU               Basic                               \n",
       "Resource Group    iww_sandbox                         \n",
       "Location          canadacentral                       \n",
       "Run History Name  automl-forecast-function-demo       "
      ]
     },
     "execution_count": 3,
     "metadata": {},
     "output_type": "execute_result"
    }
   ],
   "source": [
    "from azureml.core.workspace import Workspace\n",
    "from azureml.core.experiment import Experiment\n",
    "from azureml.train.automl import AutoMLConfig\n",
    "\n",
    "ws = Workspace.from_config()\n",
    "\n",
    "# choose a name for the run history container in the workspace\n",
    "experiment_name = 'automl-forecast-function-demo'\n",
    "\n",
    "experiment = Experiment(ws, experiment_name)\n",
    "\n",
    "output = {}\n",
    "output['Subscription ID'] = ws.subscription_id\n",
    "output['Workspace'] = ws.name\n",
    "output['SKU'] = ws.sku\n",
    "output['Resource Group'] = ws.resource_group\n",
    "output['Location'] = ws.location\n",
    "output['Run History Name'] = experiment_name\n",
    "pd.set_option('display.max_colwidth', -1)\n",
    "outputDf = pd.DataFrame(data = output, index = [''])\n",
    "outputDf.T"
   ]
  },
  {
   "cell_type": "markdown",
   "metadata": {},
   "source": [
    "## Data\n",
    "For the demonstration purposes we will generate the data artificially and use them for the forecasting."
   ]
  },
  {
   "cell_type": "code",
   "execution_count": 4,
   "metadata": {},
   "outputs": [],
   "source": [
    "TIME_COLUMN_NAME = 'date'\n",
    "TIME_SERIES_ID_COLUMN_NAME = 'time_series_id'\n",
    "TARGET_COLUMN_NAME = 'y'\n",
    "\n",
    "def get_timeseries(train_len: int,\n",
    "                   test_len: int,\n",
    "                   time_column_name: str,\n",
    "                   target_column_name: str,\n",
    "                   time_series_id_column_name: str,\n",
    "                   time_series_number: int = 1,\n",
    "                   freq: str = 'H'):\n",
    "    \"\"\"\n",
    "    Return the time series of designed length.\n",
    "\n",
    "    :param train_len: The length of training data (one series).\n",
    "    :type train_len: int\n",
    "    :param test_len: The length of testing data (one series).\n",
    "    :type test_len: int\n",
    "    :param time_column_name: The desired name of a time column.\n",
    "    :type time_column_name: str\n",
    "    :param time_series_number: The number of time series in the data set.\n",
    "    :type time_series_number: int\n",
    "    :param freq: The frequency string representing pandas offset.\n",
    "                 see https://pandas.pydata.org/pandas-docs/stable/user_guide/timeseries.html\n",
    "    :type freq: str\n",
    "    :returns: the tuple of train and test data sets.\n",
    "    :rtype: tuple\n",
    "\n",
    "    \"\"\"\n",
    "    data_train = []  # type: List[pd.DataFrame]\n",
    "    data_test = []  # type: List[pd.DataFrame]\n",
    "    data_length = train_len + test_len\n",
    "    for i in range(time_series_number):\n",
    "        X = pd.DataFrame({\n",
    "            time_column_name: pd.date_range(start='2000-01-01',\n",
    "                                            periods=data_length,\n",
    "                                            freq=freq),\n",
    "            target_column_name: np.arange(data_length).astype(float) + np.random.rand(data_length) + i*5,\n",
    "            'ext_predictor': np.asarray(range(42, 42 + data_length)),\n",
    "            time_series_id_column_name: np.repeat('ts{}'.format(i), data_length)\n",
    "        })\n",
    "        data_train.append(X[:train_len])\n",
    "        data_test.append(X[train_len:])\n",
    "    X_train = pd.concat(data_train)\n",
    "    y_train = X_train.pop(target_column_name).values\n",
    "    X_test = pd.concat(data_test)\n",
    "    y_test = X_test.pop(target_column_name).values\n",
    "    return X_train, y_train, X_test, y_test\n",
    "\n",
    "n_test_periods = 6\n",
    "n_train_periods = 30\n",
    "X_train, y_train, X_test, y_test = get_timeseries(train_len=n_train_periods,\n",
    "                                                  test_len=n_test_periods,\n",
    "                                                  time_column_name=TIME_COLUMN_NAME,\n",
    "                                                  target_column_name=TARGET_COLUMN_NAME,\n",
    "                                                  time_series_id_column_name=TIME_SERIES_ID_COLUMN_NAME,\n",
    "                                                  time_series_number=2)"
   ]
  },
  {
   "cell_type": "markdown",
   "metadata": {},
   "source": [
    "Let's see what the training data looks like."
   ]
  },
  {
   "cell_type": "code",
   "execution_count": 5,
   "metadata": {},
   "outputs": [
    {
     "data": {
      "text/html": [
       "<div>\n",
       "<style scoped>\n",
       "    .dataframe tbody tr th:only-of-type {\n",
       "        vertical-align: middle;\n",
       "    }\n",
       "\n",
       "    .dataframe tbody tr th {\n",
       "        vertical-align: top;\n",
       "    }\n",
       "\n",
       "    .dataframe thead th {\n",
       "        text-align: right;\n",
       "    }\n",
       "</style>\n",
       "<table border=\"1\" class=\"dataframe\">\n",
       "  <thead>\n",
       "    <tr style=\"text-align: right;\">\n",
       "      <th></th>\n",
       "      <th>date</th>\n",
       "      <th>ext_predictor</th>\n",
       "      <th>time_series_id</th>\n",
       "    </tr>\n",
       "  </thead>\n",
       "  <tbody>\n",
       "    <tr>\n",
       "      <th>25</th>\n",
       "      <td>2000-01-02 01:00:00</td>\n",
       "      <td>67</td>\n",
       "      <td>ts1</td>\n",
       "    </tr>\n",
       "    <tr>\n",
       "      <th>26</th>\n",
       "      <td>2000-01-02 02:00:00</td>\n",
       "      <td>68</td>\n",
       "      <td>ts1</td>\n",
       "    </tr>\n",
       "    <tr>\n",
       "      <th>27</th>\n",
       "      <td>2000-01-02 03:00:00</td>\n",
       "      <td>69</td>\n",
       "      <td>ts1</td>\n",
       "    </tr>\n",
       "    <tr>\n",
       "      <th>28</th>\n",
       "      <td>2000-01-02 04:00:00</td>\n",
       "      <td>70</td>\n",
       "      <td>ts1</td>\n",
       "    </tr>\n",
       "    <tr>\n",
       "      <th>29</th>\n",
       "      <td>2000-01-02 05:00:00</td>\n",
       "      <td>71</td>\n",
       "      <td>ts1</td>\n",
       "    </tr>\n",
       "  </tbody>\n",
       "</table>\n",
       "</div>"
      ],
      "text/plain": [
       "                  date  ext_predictor time_series_id\n",
       "25 2000-01-02 01:00:00  67             ts1          \n",
       "26 2000-01-02 02:00:00  68             ts1          \n",
       "27 2000-01-02 03:00:00  69             ts1          \n",
       "28 2000-01-02 04:00:00  70             ts1          \n",
       "29 2000-01-02 05:00:00  71             ts1          "
      ]
     },
     "execution_count": 5,
     "metadata": {},
     "output_type": "execute_result"
    }
   ],
   "source": [
    "X_train.tail()"
   ]
  },
  {
   "cell_type": "code",
   "execution_count": 6,
   "metadata": {},
   "outputs": [
    {
     "data": {
      "text/plain": [
       "<matplotlib.figure.Figure at 0x2bb913f9c50>"
      ]
     },
     "metadata": {},
     "output_type": "display_data"
    }
   ],
   "source": [
    "# plot the example time series\n",
    "import matplotlib.pyplot as plt\n",
    "whole_data = X_train.copy()\n",
    "target_label = 'y'\n",
    "whole_data[target_label] = y_train\n",
    "for g in whole_data.groupby('time_series_id'):    \n",
    "    plt.plot(g[1]['date'].values, g[1]['y'].values, label=g[0])\n",
    "plt.legend()\n",
    "plt.show()"
   ]
  },
  {
   "cell_type": "markdown",
   "metadata": {},
   "source": [
    "### Prepare remote compute and data. <a id=\"prepare_remote\"></a>\n",
    "The [Machine Learning service workspace](https://docs.microsoft.com/en-us/azure/machine-learning/service/concept-workspace), is paired with the storage account, which contains the default data store. We will use it to upload the artificial data and create [tabular dataset](https://docs.microsoft.com/en-us/python/api/azureml-core/azureml.data.tabulardataset?view=azure-ml-py) for training. A tabular dataset defines a series of lazily-evaluated, immutable operations to load data from the data source into tabular representation."
   ]
  },
  {
   "cell_type": "code",
   "execution_count": 7,
   "metadata": {},
   "outputs": [
    {
     "name": "stdout",
     "output_type": "stream",
     "text": [
      "Uploading an estimated of 1 files\n",
      "Uploading ./data\\data_train.csv\n",
      "Uploaded ./data\\data_train.csv, 1 files out of an estimated total of 1\n",
      "Uploaded 1 files\n"
     ]
    }
   ],
   "source": [
    "# We need to save thw artificial data and then upload them to default workspace datastore.\n",
    "DATA_PATH = \"fc_fn_data\"\n",
    "DATA_PATH_X = \"{}/data_train.csv\".format(DATA_PATH)\n",
    "if not os.path.isdir('data'):\n",
    "    os.mkdir('data')\n",
    "pd.DataFrame(whole_data).to_csv(\"data/data_train.csv\", index=False)\n",
    "# Upload saved data to the default data store.\n",
    "ds = ws.get_default_datastore()\n",
    "ds.upload(src_dir='./data', target_path=DATA_PATH, overwrite=True, show_progress=True)\n",
    "train_data = Dataset.Tabular.from_delimited_files(path=ds.path(DATA_PATH_X))"
   ]
  },
  {
   "cell_type": "markdown",
   "metadata": {},
   "source": [
    "You will need to create a [compute target](https://docs.microsoft.com/en-us/azure/machine-learning/service/how-to-set-up-training-targets#amlcompute) for your AutoML run. In this tutorial, you create AmlCompute as your training compute resource."
   ]
  },
  {
   "cell_type": "code",
   "execution_count": 8,
   "metadata": {},
   "outputs": [
    {
     "name": "stdout",
     "output_type": "stream",
     "text": [
      "Creating\n",
      "Succeeded\n",
      "AmlCompute wait for completion finished\n",
      "\n",
      "Minimum number of nodes requested have been provisioned\n"
     ]
    }
   ],
   "source": [
    "from azureml.core.compute import ComputeTarget, AmlCompute\n",
    "from azureml.core.compute_target import ComputeTargetException\n",
    "\n",
    "# Choose a name for your CPU cluster\n",
    "amlcompute_cluster_name = \"fcfn-cluster\"\n",
    "\n",
    "# Verify that cluster does not exist already\n",
    "try:\n",
    "    compute_target = ComputeTarget(workspace=ws, name=amlcompute_cluster_name)\n",
    "    print('Found existing cluster, use it.')\n",
    "except ComputeTargetException:\n",
    "    compute_config = AmlCompute.provisioning_configuration(vm_size='STANDARD_D2_V2',\n",
    "                                                           max_nodes=6)\n",
    "    compute_target = ComputeTarget.create(ws, amlcompute_cluster_name, compute_config)\n",
    "\n",
    "compute_target.wait_for_completion(show_output=True)"
   ]
  },
  {
   "cell_type": "markdown",
   "metadata": {},
   "source": [
    "## Create the configuration and train a forecaster <a id=\"train\"></a>\n",
    "First generate the configuration, in which we:\n",
    "* Set metadata columns: target, time column and time-series id column names.\n",
    "* Validate our data using cross validation with rolling window method.\n",
    "* Set normalized root mean squared error as a metric to select the best model.\n",
    "* Set early termination to True, so the iterations through the models will stop when no improvements in accuracy score will be made.\n",
    "* Set limitations on the length of experiment run to 15 minutes.\n",
    "* Finally, we set the task to be forecasting.\n",
    "* We apply the lag lead operator to the target value i.e. we use the previous values as a predictor for the future ones.\n",
    "* [Optional] Forecast frequency parameter (freq) represents the period with which the forecast is desired, for example, daily, weekly, yearly, etc. Use this parameter for the correction of time series containing irregular data points or for padding of short time series. The frequency needs to be a pandas offset alias. Please refer to [pandas documentation](https://pandas.pydata.org/pandas-docs/stable/user_guide/timeseries.html#dateoffset-objects) for more information."
   ]
  },
  {
   "cell_type": "code",
   "execution_count": 9,
   "metadata": {},
   "outputs": [],
   "source": [
    "from azureml.automl.core.forecasting_parameters import ForecastingParameters\n",
    "lags = [1,2,3]\n",
    "forecast_horizon = n_test_periods\n",
    "forecasting_parameters = ForecastingParameters(\n",
    "    time_column_name=TIME_COLUMN_NAME,\n",
    "    forecast_horizon=forecast_horizon,\n",
    "    time_series_id_column_names=[ TIME_SERIES_ID_COLUMN_NAME ],\n",
    "    target_lags=lags\n",
    ")"
   ]
  },
  {
   "cell_type": "markdown",
   "metadata": {},
   "source": [
    "Run the model selection and training process.  Validation errors and current status will be shown when setting `show_output=True` and the execution will be synchronous."
   ]
  },
  {
   "cell_type": "code",
   "execution_count": 10,
   "metadata": {},
   "outputs": [
    {
     "name": "stdout",
     "output_type": "stream",
     "text": [
      "Running on remote.\n"
     ]
    }
   ],
   "source": [
    "from azureml.core.workspace import Workspace\n",
    "from azureml.core.experiment import Experiment\n",
    "from azureml.train.automl import AutoMLConfig\n",
    "\n",
    "\n",
    "automl_config = AutoMLConfig(task='forecasting',\n",
    "                             debug_log='automl_forecasting_function.log',\n",
    "                             primary_metric='normalized_root_mean_squared_error',\n",
    "                             experiment_timeout_hours=0.25,\n",
    "                             enable_early_stopping=True,\n",
    "                             training_data=train_data,\n",
    "                             compute_target=compute_target,\n",
    "                             n_cross_validations=3,\n",
    "                             verbosity = logging.INFO,\n",
    "                             max_concurrent_iterations=4,\n",
    "                             max_cores_per_iteration=-1,\n",
    "                             label_column_name=target_label,\n",
    "                             forecasting_parameters=forecasting_parameters)\n",
    "\n",
    "remote_run = experiment.submit(automl_config, show_output=False)"
   ]
  },
  {
   "cell_type": "code",
   "execution_count": 11,
   "metadata": {},
   "outputs": [
    {
     "name": "stderr",
     "output_type": "stream",
     "text": [
      "WARNING - Retrying (Retry(total=2, connect=3, read=3, redirect=None, status=None)) after connection broken by 'SSLError(SSLError(1, '[SSL: CERTIFICATE_VERIFY_FAILED] certificate verify failed (_ssl.c:847)'),)': /history/v1.0/subscriptions/b54182d2-60c0-4e34-b1ab-499a3394771d/resourceGroups/iww_sandbox/providers/Microsoft.MachineLearningServices/workspaces/iww_workspace/experimentids/3b1cf847-a87a-4b43-a259-4abd3b0ddc90/runs/AutoML_bbdbf43f-32f6-4193-819b-06a1dd09c094\n",
      "WARNING - Retrying (Retry(total=2, connect=3, read=3, redirect=None, status=None)) after connection broken by 'SSLError(SSLError(1, '[SSL: CERTIFICATE_VERIFY_FAILED] certificate verify failed (_ssl.c:847)'),)': /history/v1.0/subscriptions/b54182d2-60c0-4e34-b1ab-499a3394771d/resourceGroups/iww_sandbox/providers/Microsoft.MachineLearningServices/workspaces/iww_workspace/experimentids/3b1cf847-a87a-4b43-a259-4abd3b0ddc90/runs/AutoML_bbdbf43f-32f6-4193-819b-06a1dd09c094\n",
      "WARNING - Retrying (Retry(total=2, connect=3, read=3, redirect=None, status=None)) after connection broken by 'SSLError(SSLError(1, '[SSL: CERTIFICATE_VERIFY_FAILED] certificate verify failed (_ssl.c:847)'),)': /history/v1.0/subscriptions/b54182d2-60c0-4e34-b1ab-499a3394771d/resourceGroups/iww_sandbox/providers/Microsoft.MachineLearningServices/workspaces/iww_workspace/experimentids/3b1cf847-a87a-4b43-a259-4abd3b0ddc90/runs/AutoML_bbdbf43f-32f6-4193-819b-06a1dd09c094\n",
      "WARNING - Retrying (Retry(total=2, connect=3, read=3, redirect=None, status=None)) after connection broken by 'SSLError(SSLError(1, '[SSL: CERTIFICATE_VERIFY_FAILED] certificate verify failed (_ssl.c:847)'),)': /history/v1.0/subscriptions/b54182d2-60c0-4e34-b1ab-499a3394771d/resourceGroups/iww_sandbox/providers/Microsoft.MachineLearningServices/workspaces/iww_workspace/experimentids/3b1cf847-a87a-4b43-a259-4abd3b0ddc90/runs/AutoML_bbdbf43f-32f6-4193-819b-06a1dd09c094\n"
     ]
    },
    {
     "data": {
      "text/plain": [
       "{'runId': 'AutoML_bbdbf43f-32f6-4193-819b-06a1dd09c094',\n",
       " 'target': 'fcfn-cluster',\n",
       " 'status': 'Completed',\n",
       " 'startTimeUtc': '2021-03-10T16:40:08.854851Z',\n",
       " 'endTimeUtc': '2021-03-10T17:10:10.347386Z',\n",
       " 'properties': {'num_iterations': '1000',\n",
       "  'training_type': 'TrainFull',\n",
       "  'acquisition_function': 'EI',\n",
       "  'primary_metric': 'normalized_root_mean_squared_error',\n",
       "  'train_split': '0',\n",
       "  'acquisition_parameter': '0',\n",
       "  'num_cross_validation': '3',\n",
       "  'target': 'fcfn-cluster',\n",
       "  'AMLSettingsJsonString': '{\"path\":null,\"name\":\"automl-forecast-function-demo\",\"subscription_id\":\"b54182d2-60c0-4e34-b1ab-499a3394771d\",\"resource_group\":\"iww_sandbox\",\"workspace_name\":\"iww_workspace\",\"region\":\"canadacentral\",\"compute_target\":\"fcfn-cluster\",\"spark_service\":null,\"azure_service\":\"remote\",\"_local_managed_run_id\":null,\"many_models\":false,\"pipeline_fetch_max_batch_size\":1,\"iterations\":1000,\"primary_metric\":\"normalized_root_mean_squared_error\",\"task_type\":\"regression\",\"data_script\":null,\"validation_size\":0.0,\"n_cross_validations\":3,\"y_min\":null,\"y_max\":null,\"num_classes\":null,\"featurization\":\"auto\",\"_ignore_package_version_incompatibilities\":false,\"is_timeseries\":true,\"max_cores_per_iteration\":-1,\"max_concurrent_iterations\":4,\"iteration_timeout_minutes\":null,\"mem_in_mb\":null,\"enforce_time_on_windows\":true,\"experiment_timeout_minutes\":15,\"experiment_exit_score\":null,\"whitelist_models\":null,\"blacklist_algos\":[\"TensorFlowDNN\",\"TensorFlowLinearRegressor\",\"AutoArima\",\"Prophet\",\"Naive\",\"SeasonalNaive\",\"Average\",\"SeasonalAverage\",\"ExponentialSmoothing\",\"Arimax\"],\"supported_models\":[\"Naive\",\"DecisionTree\",\"XGBoostRegressor\",\"TensorFlowDNN\",\"GradientBoosting\",\"Average\",\"SeasonalAverage\",\"RandomForest\",\"KNN\",\"ElasticNet\",\"LassoLars\",\"SGD\",\"AutoArima\",\"TCNForecaster\",\"TensorFlowLinearRegressor\",\"Prophet\",\"ExtremeRandomTrees\",\"LightGBM\",\"SeasonalNaive\"],\"auto_blacklist\":true,\"blacklist_samples_reached\":false,\"exclude_nan_labels\":true,\"verbosity\":20,\"_debug_log\":\"azureml_automl.log\",\"show_warnings\":false,\"model_explainability\":true,\"service_url\":null,\"sdk_url\":null,\"sdk_packages\":null,\"enable_onnx_compatible_models\":false,\"enable_split_onnx_featurizer_estimator_models\":false,\"vm_type\":\"STANDARD_D2_V2\",\"telemetry_verbosity\":20,\"send_telemetry\":true,\"enable_dnn\":false,\"scenario\":\"SDK-1.13.0\",\"environment_label\":null,\"force_text_dnn\":false,\"enable_feature_sweeping\":false,\"time_column_name\":\"date\",\"grain_column_names\":[\"time_series_id\"],\"drop_column_names\":[],\"max_horizon\":6,\"dropna\":false,\"overwrite_columns\":true,\"transform_dictionary\":{\"min\":\"_automl_target_col\",\"max\":\"_automl_target_col\",\"mean\":\"_automl_target_col\"},\"window_size\":null,\"country_or_region\":null,\"lags\":{\"_automl_target_col\":[1,2,3]},\"feature_lags\":null,\"seasonality\":\"auto\",\"use_stl\":null,\"short_series_handling\":true,\"freq\":null,\"short_series_handling_configuration\":\"auto\",\"enable_early_stopping\":true,\"early_stopping_n_iters\":10,\"metrics\":null,\"enable_ensembling\":true,\"enable_stack_ensembling\":false,\"ensemble_iterations\":15,\"enable_tf\":false,\"enable_subsampling\":false,\"subsample_seed\":null,\"enable_nimbusml\":false,\"enable_streaming\":false,\"force_streaming\":false,\"track_child_runs\":true,\"allowed_private_models\":[],\"label_column_name\":\"y\",\"weight_column_name\":null,\"cv_split_column_names\":null,\"enable_local_managed\":false,\"cost_mode\":1,\"lag_length\":0,\"metric_operation\":\"minimize\",\"preprocess\":true}',\n",
       "  'DataPrepJsonString': '{\\\\\"training_data\\\\\": \\\\\"{\\\\\\\\\\\\\"blocks\\\\\\\\\\\\\": [{\\\\\\\\\\\\\"id\\\\\\\\\\\\\": \\\\\\\\\\\\\"715dec21-f979-4039-8005-06310209b811\\\\\\\\\\\\\", \\\\\\\\\\\\\"type\\\\\\\\\\\\\": \\\\\\\\\\\\\"Microsoft.DPrep.GetDatastoreFilesBlock\\\\\\\\\\\\\", \\\\\\\\\\\\\"arguments\\\\\\\\\\\\\": {\\\\\\\\\\\\\"datastores\\\\\\\\\\\\\": [{\\\\\\\\\\\\\"datastoreName\\\\\\\\\\\\\": \\\\\\\\\\\\\"workspaceblobstore\\\\\\\\\\\\\", \\\\\\\\\\\\\"path\\\\\\\\\\\\\": \\\\\\\\\\\\\"fc_fn_data/data_train.csv\\\\\\\\\\\\\", \\\\\\\\\\\\\"resourceGroup\\\\\\\\\\\\\": \\\\\\\\\\\\\"iww_sandbox\\\\\\\\\\\\\", \\\\\\\\\\\\\"subscription\\\\\\\\\\\\\": \\\\\\\\\\\\\"b54182d2-60c0-4e34-b1ab-499a3394771d\\\\\\\\\\\\\", \\\\\\\\\\\\\"workspaceName\\\\\\\\\\\\\": \\\\\\\\\\\\\"iww_workspace\\\\\\\\\\\\\"}]}, \\\\\\\\\\\\\"localData\\\\\\\\\\\\\": {}, \\\\\\\\\\\\\"isEnabled\\\\\\\\\\\\\": true, \\\\\\\\\\\\\"name\\\\\\\\\\\\\": null, \\\\\\\\\\\\\"annotation\\\\\\\\\\\\\": null}, {\\\\\\\\\\\\\"id\\\\\\\\\\\\\": \\\\\\\\\\\\\"d881c475-c056-4db4-9a3a-aa7349bbc5c8\\\\\\\\\\\\\", \\\\\\\\\\\\\"type\\\\\\\\\\\\\": \\\\\\\\\\\\\"Microsoft.DPrep.ParseDelimitedBlock\\\\\\\\\\\\\", \\\\\\\\\\\\\"arguments\\\\\\\\\\\\\": {\\\\\\\\\\\\\"columnHeadersMode\\\\\\\\\\\\\": 3, \\\\\\\\\\\\\"fileEncoding\\\\\\\\\\\\\": 0, \\\\\\\\\\\\\"handleQuotedLineBreaks\\\\\\\\\\\\\": false, \\\\\\\\\\\\\"preview\\\\\\\\\\\\\": false, \\\\\\\\\\\\\"separator\\\\\\\\\\\\\": \\\\\\\\\\\\\",\\\\\\\\\\\\\", \\\\\\\\\\\\\"skipRows\\\\\\\\\\\\\": 0, \\\\\\\\\\\\\"skipRowsMode\\\\\\\\\\\\\": 0}, \\\\\\\\\\\\\"localData\\\\\\\\\\\\\": {}, \\\\\\\\\\\\\"isEnabled\\\\\\\\\\\\\": true, \\\\\\\\\\\\\"name\\\\\\\\\\\\\": null, \\\\\\\\\\\\\"annotation\\\\\\\\\\\\\": null}, {\\\\\\\\\\\\\"id\\\\\\\\\\\\\": \\\\\\\\\\\\\"a42adab1-3e71-47c4-9701-aa2b30a0bf0c\\\\\\\\\\\\\", \\\\\\\\\\\\\"type\\\\\\\\\\\\\": \\\\\\\\\\\\\"Microsoft.DPrep.DropColumnsBlock\\\\\\\\\\\\\", \\\\\\\\\\\\\"arguments\\\\\\\\\\\\\": {\\\\\\\\\\\\\"columns\\\\\\\\\\\\\": {\\\\\\\\\\\\\"type\\\\\\\\\\\\\": 0, \\\\\\\\\\\\\"details\\\\\\\\\\\\\": {\\\\\\\\\\\\\"selectedColumns\\\\\\\\\\\\\": [\\\\\\\\\\\\\"Path\\\\\\\\\\\\\"]}}}, \\\\\\\\\\\\\"localData\\\\\\\\\\\\\": {}, \\\\\\\\\\\\\"isEnabled\\\\\\\\\\\\\": true, \\\\\\\\\\\\\"name\\\\\\\\\\\\\": null, \\\\\\\\\\\\\"annotation\\\\\\\\\\\\\": null}, {\\\\\\\\\\\\\"id\\\\\\\\\\\\\": \\\\\\\\\\\\\"b17b1b76-3b60-43ce-bc7c-5f417db06be9\\\\\\\\\\\\\", \\\\\\\\\\\\\"type\\\\\\\\\\\\\": \\\\\\\\\\\\\"Microsoft.DPrep.SetColumnTypesBlock\\\\\\\\\\\\\", \\\\\\\\\\\\\"arguments\\\\\\\\\\\\\": {\\\\\\\\\\\\\"columnConversion\\\\\\\\\\\\\": [{\\\\\\\\\\\\\"column\\\\\\\\\\\\\": {\\\\\\\\\\\\\"type\\\\\\\\\\\\\": 2, \\\\\\\\\\\\\"details\\\\\\\\\\\\\": {\\\\\\\\\\\\\"selectedColumn\\\\\\\\\\\\\": \\\\\\\\\\\\\"date\\\\\\\\\\\\\"}}, \\\\\\\\\\\\\"typeArguments\\\\\\\\\\\\\": {\\\\\\\\\\\\\"dateTimeFormats\\\\\\\\\\\\\": [\\\\\\\\\\\\\"%Y-%m-%d %H:%M:%S\\\\\\\\\\\\\"]}, \\\\\\\\\\\\\"typeProperty\\\\\\\\\\\\\": 4}, {\\\\\\\\\\\\\"column\\\\\\\\\\\\\": {\\\\\\\\\\\\\"type\\\\\\\\\\\\\": 2, \\\\\\\\\\\\\"details\\\\\\\\\\\\\": {\\\\\\\\\\\\\"selectedColumn\\\\\\\\\\\\\": \\\\\\\\\\\\\"ext_predictor\\\\\\\\\\\\\"}}, \\\\\\\\\\\\\"typeProperty\\\\\\\\\\\\\": 2}, {\\\\\\\\\\\\\"column\\\\\\\\\\\\\": {\\\\\\\\\\\\\"type\\\\\\\\\\\\\": 2, \\\\\\\\\\\\\"details\\\\\\\\\\\\\": {\\\\\\\\\\\\\"selectedColumn\\\\\\\\\\\\\": \\\\\\\\\\\\\"time_series_id\\\\\\\\\\\\\"}}, \\\\\\\\\\\\\"typeProperty\\\\\\\\\\\\\": 0}, {\\\\\\\\\\\\\"column\\\\\\\\\\\\\": {\\\\\\\\\\\\\"type\\\\\\\\\\\\\": 2, \\\\\\\\\\\\\"details\\\\\\\\\\\\\": {\\\\\\\\\\\\\"selectedColumn\\\\\\\\\\\\\": \\\\\\\\\\\\\"y\\\\\\\\\\\\\"}}, \\\\\\\\\\\\\"typeProperty\\\\\\\\\\\\\": 3}]}, \\\\\\\\\\\\\"localData\\\\\\\\\\\\\": {}, \\\\\\\\\\\\\"isEnabled\\\\\\\\\\\\\": true, \\\\\\\\\\\\\"name\\\\\\\\\\\\\": null, \\\\\\\\\\\\\"annotation\\\\\\\\\\\\\": null}], \\\\\\\\\\\\\"inspectors\\\\\\\\\\\\\": [], \\\\\\\\\\\\\"meta\\\\\\\\\\\\\": {\\\\\\\\\\\\\"savedDatasetId\\\\\\\\\\\\\": \\\\\\\\\\\\\"37814e9a-7601-4eb8-8b74-2fed3e6e3588\\\\\\\\\\\\\", \\\\\\\\\\\\\"datasetType\\\\\\\\\\\\\": \\\\\\\\\\\\\"tabular\\\\\\\\\\\\\", \\\\\\\\\\\\\"subscriptionId\\\\\\\\\\\\\": \\\\\\\\\\\\\"b54182d2-60c0-4e34-b1ab-499a3394771d\\\\\\\\\\\\\", \\\\\\\\\\\\\"workspaceId\\\\\\\\\\\\\": \\\\\\\\\\\\\"0a8038f3-4fc8-4db6-8ba1-79ac6988a8e1\\\\\\\\\\\\\", \\\\\\\\\\\\\"workspaceLocation\\\\\\\\\\\\\": \\\\\\\\\\\\\"canadacentral\\\\\\\\\\\\\"}}\\\\\", \\\\\"activities\\\\\": 0}',\n",
       "  'EnableSubsampling': 'False',\n",
       "  'runTemplate': 'AutoML',\n",
       "  'azureml.runsource': 'automl',\n",
       "  'display_task_type': 'forecasting',\n",
       "  'dependencies_versions': '{\"azureml-widgets\": \"1.18.0\", \"azureml-train-restclients-hyperdrive\": \"1.18.0\", \"azureml-train-core\": \"1.18.0.post1\", \"azureml-train-automl\": \"1.18.0\", \"azureml-train-automl-runtime\": \"1.18.0.post1\", \"azureml-train-automl-client\": \"1.18.0\", \"azureml-telemetry\": \"1.18.0\", \"azureml-pipeline-steps\": \"1.18.0\", \"azureml-pipeline-core\": \"1.18.0\", \"azureml-model-management-sdk\": \"1.0.1b6.post1\", \"azureml-interpret\": \"1.18.0\", \"azureml-defaults\": \"1.18.0\", \"azureml-dataset-runtime\": \"1.18.0\", \"azureml-dataprep\": \"2.4.2\", \"azureml-dataprep-rslex\": \"1.2.2\", \"azureml-dataprep-native\": \"24.0.0\", \"azureml-core\": \"1.18.0.post2\", \"azureml-automl-runtime\": \"1.18.0.post2\", \"azureml-automl-core\": \"1.18.0.post1\"}',\n",
       "  '_aml_system_scenario_identification': 'Remote.Parent',\n",
       "  'ClientType': 'SDK',\n",
       "  'environment_cpu_name': 'AzureML-AutoML',\n",
       "  'environment_cpu_label': 'prod',\n",
       "  'environment_gpu_name': 'AzureML-AutoML-GPU',\n",
       "  'environment_gpu_label': 'prod',\n",
       "  'root_attribution': 'automl',\n",
       "  'attribution': 'AutoML',\n",
       "  'Orchestrator': 'AutoML',\n",
       "  'CancelUri': 'https://canadacentral.experiments.azureml.net/jasmine/v1.0/subscriptions/b54182d2-60c0-4e34-b1ab-499a3394771d/resourceGroups/iww_sandbox/providers/Microsoft.MachineLearningServices/workspaces/iww_workspace/experimentids/3b1cf847-a87a-4b43-a259-4abd3b0ddc90/cancel/AutoML_bbdbf43f-32f6-4193-819b-06a1dd09c094',\n",
       "  'azureml.git.repository_uri': 'https://ryanhagan0903@dev.azure.com/ryanhagan0903/Industrial%20Waste%20Water/_git/Industrial%20Waste%20Water',\n",
       "  'mlflow.source.git.repoURL': 'https://ryanhagan0903@dev.azure.com/ryanhagan0903/Industrial%20Waste%20Water/_git/Industrial%20Waste%20Water',\n",
       "  'azureml.git.branch': 'master',\n",
       "  'mlflow.source.git.branch': 'master',\n",
       "  'azureml.git.commit': '7ec2b0fd3d95235bc20ac6f300a1421b86543ee4',\n",
       "  'mlflow.source.git.commit': '7ec2b0fd3d95235bc20ac6f300a1421b86543ee4',\n",
       "  'azureml.git.dirty': 'True',\n",
       "  'ClientSdkVersion': '1.23.0',\n",
       "  'snapshotId': '00000000-0000-0000-0000-000000000000',\n",
       "  'SetupRunId': 'AutoML_bbdbf43f-32f6-4193-819b-06a1dd09c094_setup',\n",
       "  'SetupRunContainerId': 'dcid.AutoML_bbdbf43f-32f6-4193-819b-06a1dd09c094_setup',\n",
       "  'forecasting_target_lags': '[1, 2, 3]',\n",
       "  'forecasting_target_rolling_window_size': '0',\n",
       "  'forecasting_max_horizon': '6',\n",
       "  'ProblemInfoJsonString': '{\"dataset_num_categorical\": 0, \"is_sparse\": false, \"subsampling\": false, \"dataset_classes\": 54, \"dataset_features\": 12, \"dataset_samples\": 294, \"single_frequency_class_detected\": false}',\n",
       "  'ModelExplainRunId': 'AutoML_bbdbf43f-32f6-4193-819b-06a1dd09c094_ModelExplain'},\n",
       " 'inputDatasets': [{'dataset': {'id': '37814e9a-7601-4eb8-8b74-2fed3e6e3588'}, 'consumptionDetails': {'type': 'RunInput', 'inputName': 'training_data', 'mechanism': 'Direct'}}],\n",
       " 'outputDatasets': [],\n",
       " 'logFiles': {}}"
      ]
     },
     "execution_count": 11,
     "metadata": {},
     "output_type": "execute_result"
    }
   ],
   "source": [
    "remote_run.wait_for_completion()"
   ]
  },
  {
   "cell_type": "code",
   "execution_count": 12,
   "metadata": {},
   "outputs": [
    {
     "name": "stderr",
     "output_type": "stream",
     "text": [
      "WARNING - The version of the SDK does not match the version the model was trained on.\n",
      "WARNING - The consistency in the result may not be guaranteed.\n",
      "WARNING - Package:azureml-automl-core, training version:1.23.0, current version:1.18.0.post1\n",
      "Package:azureml-automl-runtime, training version:1.23.0, current version:1.18.0.post2\n",
      "Package:azureml-core, training version:1.23.0, current version:1.18.0.post2\n",
      "Package:azureml-dataprep, training version:2.10.1, current version:2.4.2\n",
      "Package:azureml-dataprep-native, training version:30.0.0, current version:24.0.0\n",
      "Package:azureml-dataprep-rslex, training version:1.8.0, current version:1.2.2\n",
      "Package:azureml-dataset-runtime, training version:1.23.0, current version:1.18.0\n",
      "Package:azureml-defaults, training version:1.23.0, current version:1.18.0\n",
      "Package:azureml-interpret, training version:1.23.0, current version:1.18.0\n",
      "Package:azureml-pipeline-core, training version:1.23.0, current version:1.18.0\n",
      "Package:azureml-telemetry, training version:1.23.0, current version:1.18.0\n",
      "Package:azureml-train-automl-client, training version:1.23.0, current version:1.18.0\n",
      "Package:azureml-train-automl-runtime, training version:1.23.0, current version:1.18.0.post1\n",
      "WARNING - Below packages were used for model training but missing in current environment:\n",
      "WARNING - Package:azureml-mlflow, training version:1.23.0\n",
      "WARNING - Please ensure the version of your local conda dependencies match the version on which your model was trained in order to properly retrieve your model.\n"
     ]
    }
   ],
   "source": [
    "# Retrieve the best model to use it further.\n",
    "_, fitted_model = remote_run.get_output()"
   ]
  },
  {
   "cell_type": "markdown",
   "metadata": {},
   "source": [
    "## Forecasting from the trained model <a id=\"forecasting\"></a>"
   ]
  },
  {
   "cell_type": "markdown",
   "metadata": {},
   "source": [
    "In this section we will review the `forecast` interface for two main scenarios: forecasting right after the training data, and the more complex interface for forecasting when there is a gap (in the time sense) between training and testing data."
   ]
  },
  {
   "cell_type": "markdown",
   "metadata": {},
   "source": [
    "### X_train is directly followed by the X_test\n",
    "\n",
    "Let's first consider the case when the prediction period immediately follows the training data. This is typical in scenarios where we have the time to retrain the model every time we wish to forecast. Forecasts that are made on daily and slower cadence typically fall into this category. Retraining the model every time benefits the accuracy because the most recent data is often the most informative.\n",
    "\n",
    "![Forecasting after training](forecast_function_at_train.png)\n",
    "\n",
    "We use `X_test` as a **forecast request** to generate the predictions."
   ]
  },
  {
   "cell_type": "markdown",
   "metadata": {},
   "source": [
    "#### Typical path: X_test is known, forecast all upcoming periods"
   ]
  },
  {
   "cell_type": "code",
   "execution_count": null,
   "metadata": {},
   "outputs": [],
   "source": [
    "# The data set contains hourly data, the training set ends at 01/02/2000 at 05:00\n",
    "\n",
    "# These are predictions we are asking the model to make (does not contain thet target column y),\n",
    "# for 6 periods beginning with 2000-01-02 06:00, which immediately follows the training data\n",
    "X_test"
   ]
  },
  {
   "cell_type": "code",
   "execution_count": null,
   "metadata": {},
   "outputs": [],
   "source": [
    "y_pred_no_gap, xy_nogap =  fitted_model.forecast(X_test)\n",
    "\n",
    "# xy_nogap contains the predictions in the _automl_target_col column.\n",
    "# Those same numbers are output in y_pred_no_gap\n",
    "xy_nogap"
   ]
  },
  {
   "cell_type": "markdown",
   "metadata": {},
   "source": [
    "#### Confidence intervals"
   ]
  },
  {
   "cell_type": "markdown",
   "metadata": {},
   "source": [
    "Forecasting model may be used for the prediction of forecasting intervals by running ```forecast_quantiles()```. \n",
    "This method accepts the same parameters as forecast()."
   ]
  },
  {
   "cell_type": "code",
   "execution_count": null,
   "metadata": {},
   "outputs": [],
   "source": [
    "quantiles =  fitted_model.forecast_quantiles(X_test)\n",
    "quantiles"
   ]
  },
  {
   "cell_type": "markdown",
   "metadata": {},
   "source": [
    "#### Distribution forecasts\n",
    "\n",
    "Often the figure of interest is not just the point prediction, but the prediction at some quantile of the distribution. \n",
    "This arises when the forecast is used to control some kind of inventory, for example of grocery items or virtual machines for a cloud service. In such case, the control point is usually something like \"we want the item to be in stock and not run out 99% of the time\". This is called a \"service level\". Here is how you get quantile forecasts."
   ]
  },
  {
   "cell_type": "code",
   "execution_count": null,
   "metadata": {},
   "outputs": [],
   "source": [
    "# specify which quantiles you would like \n",
    "fitted_model.quantiles = [0.01, 0.5, 0.95]\n",
    "# use forecast_quantiles function, not the forecast() one\n",
    "y_pred_quantiles =  fitted_model.forecast_quantiles(X_test)\n",
    "\n",
    "# quantile forecasts returned in a Dataframe along with the time and time series id columns \n",
    "y_pred_quantiles"
   ]
  },
  {
   "cell_type": "markdown",
   "metadata": {},
   "source": [
    "#### Destination-date forecast: \"just do something\"\n",
    "\n",
    "In some scenarios, the X_test is not known. The forecast is likely to be weak, because it is missing contemporaneous predictors, which we will need to impute. If you still wish to predict forward under the assumption that the last known values will be carried forward, you can forecast out to \"destination date\". The destination date still needs to fit within the forecast horizon from training."
   ]
  },
  {
   "cell_type": "code",
   "execution_count": null,
   "metadata": {},
   "outputs": [],
   "source": [
    "# We will take the destination date as a last date in the test set.\n",
    "dest = max(X_test[TIME_COLUMN_NAME])\n",
    "y_pred_dest, xy_dest = fitted_model.forecast(forecast_destination=dest)\n",
    "\n",
    "# This form also shows how we imputed the predictors which were not given. (Not so well! Use with caution!)\n",
    "xy_dest"
   ]
  },
  {
   "cell_type": "markdown",
   "metadata": {},
   "source": [
    "## Forecasting away from training data <a id=\"forecasting_away\"></a>\n",
    "\n",
    "Suppose we trained a model, some time passed, and now we want to apply the model without re-training. If the model \"looks back\" -- uses previous values of the target -- then we somehow need to provide those values to the model.\n",
    "\n",
    "![Forecasting after training](forecast_function_away_from_train.png)\n",
    "\n",
    "The notion of forecast origin comes into play: the forecast origin is **the last period for which we have seen the target value**. This applies per time-series, so each time-series can have a different forecast origin. \n",
    "\n",
    "The part of data before the forecast origin is the **prediction context**. To provide the context values the model needs when it looks back, we pass definite values in `y_test` (aligned with corresponding times in `X_test`)."
   ]
  },
  {
   "cell_type": "code",
   "execution_count": null,
   "metadata": {},
   "outputs": [],
   "source": [
    "# generate the same kind of test data we trained on, \n",
    "# but now make the train set much longer, so that the test set will be in the future\n",
    "X_context, y_context, X_away, y_away = get_timeseries(train_len=42, # train data was 30 steps long\n",
    "                                      test_len=4,\n",
    "                                      time_column_name=TIME_COLUMN_NAME,\n",
    "                                      target_column_name=TARGET_COLUMN_NAME,\n",
    "                                      time_series_id_column_name=TIME_SERIES_ID_COLUMN_NAME,\n",
    "                                      time_series_number=2)\n",
    "\n",
    "# end of the data we trained on\n",
    "print(X_train.groupby(TIME_SERIES_ID_COLUMN_NAME)[TIME_COLUMN_NAME].max())\n",
    "# start of the data we want to predict on\n",
    "print(X_away.groupby(TIME_SERIES_ID_COLUMN_NAME)[TIME_COLUMN_NAME].min())"
   ]
  },
  {
   "cell_type": "markdown",
   "metadata": {},
   "source": [
    "There is a gap of 12 hours between end of training and beginning of `X_away`. (It looks like 13 because all timestamps point to the start of the one hour periods.) Using only `X_away` will fail without adding context data for the model to consume."
   ]
  },
  {
   "cell_type": "code",
   "execution_count": null,
   "metadata": {},
   "outputs": [],
   "source": [
    "try: \n",
    "    y_pred_away, xy_away = fitted_model.forecast(X_away)\n",
    "    xy_away\n",
    "except Exception as e:\n",
    "    print(e)"
   ]
  },
  {
   "cell_type": "markdown",
   "metadata": {},
   "source": [
    "How should we read that eror message? The forecast origin is at the last time the model saw an actual value of `y` (the target). That was at the end of the training data! The model is attempting to forecast from the end of training data. But the requested forecast periods are past the forecast horizon. We need to provide a define `y` value to establish the forecast origin.\n",
    "\n",
    "We will use this helper function to take the required amount of context from the data preceding the testing data. It's definition is intentionally simplified to keep the idea in the clear."
   ]
  },
  {
   "cell_type": "code",
   "execution_count": null,
   "metadata": {},
   "outputs": [],
   "source": [
    "def make_forecasting_query(fulldata, time_column_name, target_column_name, forecast_origin, horizon, lookback):\n",
    "\n",
    "    \"\"\"\n",
    "    This function will take the full dataset, and create the query\n",
    "    to predict all values of the time series from the `forecast_origin`\n",
    "    forward for the next `horizon` horizons. Context from previous\n",
    "    `lookback` periods will be included.\n",
    "\n",
    "    \n",
    "\n",
    "    fulldata: pandas.DataFrame           a time series dataset. Needs to contain X and y.\n",
    "    time_column_name: string             which column (must be in fulldata) is the time axis\n",
    "    target_column_name: string           which column (must be in fulldata) is to be forecast\n",
    "    forecast_origin: datetime type       the last time we (pretend to) have target values \n",
    "    horizon: timedelta                   how far forward, in time units (not periods)\n",
    "    lookback: timedelta                  how far back does the model look?\n",
    "\n",
    "    Example:\n",
    "\n",
    "\n",
    "    ```\n",
    "\n",
    "    forecast_origin = pd.to_datetime('2012-09-01') + pd.DateOffset(days=5) # forecast 5 days after end of training\n",
    "    print(forecast_origin)\n",
    "\n",
    "    X_query, y_query = make_forecasting_query(data, \n",
    "                       forecast_origin = forecast_origin,\n",
    "                       horizon = pd.DateOffset(days=7), # 7 days into the future\n",
    "                       lookback = pd.DateOffset(days=1), # model has lag 1 period (day)\n",
    "                      )\n",
    "\n",
    "    ```\n",
    "    \"\"\"\n",
    "\n",
    "    X_past = fulldata[ (fulldata[ time_column_name ] > forecast_origin - lookback) &\n",
    "                       (fulldata[ time_column_name ] <= forecast_origin)\n",
    "                     ]\n",
    "\n",
    "    X_future = fulldata[ (fulldata[ time_column_name ] > forecast_origin) &\n",
    "                         (fulldata[ time_column_name ] <= forecast_origin + horizon)\n",
    "                       ]\n",
    "\n",
    "    y_past = X_past.pop(target_column_name).values.astype(np.float)\n",
    "    y_future = X_future.pop(target_column_name).values.astype(np.float)\n",
    "\n",
    "    # Now take y_future and turn it into question marks\n",
    "    y_query = y_future.copy().astype(np.float)  # because sometimes life hands you an int\n",
    "    y_query.fill(np.NaN)\n",
    "\n",
    "\n",
    "    print(\"X_past is \" + str(X_past.shape) + \" - shaped\")\n",
    "    print(\"X_future is \" + str(X_future.shape) + \" - shaped\")\n",
    "    print(\"y_past is \" + str(y_past.shape) + \" - shaped\")\n",
    "    print(\"y_query is \" + str(y_query.shape) + \" - shaped\")\n",
    "\n",
    "\n",
    "    X_pred = pd.concat([X_past, X_future])\n",
    "    y_pred = np.concatenate([y_past, y_query])\n",
    "    return X_pred, y_pred"
   ]
  },
  {
   "cell_type": "markdown",
   "metadata": {},
   "source": [
    "Let's see where the context data ends - it ends, by construction, just before the testing data starts."
   ]
  },
  {
   "cell_type": "code",
   "execution_count": null,
   "metadata": {},
   "outputs": [],
   "source": [
    "print(X_context.groupby(TIME_SERIES_ID_COLUMN_NAME)[TIME_COLUMN_NAME].agg(['min','max','count']))\n",
    "print(X_away.groupby(TIME_SERIES_ID_COLUMN_NAME)[TIME_COLUMN_NAME].agg(['min','max','count']))\n",
    "X_context.tail(5)"
   ]
  },
  {
   "cell_type": "code",
   "execution_count": null,
   "metadata": {},
   "outputs": [],
   "source": [
    "# Since the length of the lookback is 3, \n",
    "# we need to add 3 periods from the context to the request\n",
    "# so that the model has the data it needs\n",
    "\n",
    "# Put the X and y back together for a while. \n",
    "# They like each other and it makes them happy.\n",
    "X_context[TARGET_COLUMN_NAME] = y_context\n",
    "X_away[TARGET_COLUMN_NAME] = y_away\n",
    "fulldata = pd.concat([X_context, X_away])\n",
    "\n",
    "# forecast origin is the last point of data, which is one 1-hr period before test\n",
    "forecast_origin = X_away[TIME_COLUMN_NAME].min() - pd.DateOffset(hours=1)\n",
    "# it is indeed the last point of the context\n",
    "assert forecast_origin == X_context[TIME_COLUMN_NAME].max()\n",
    "print(\"Forecast origin: \" + str(forecast_origin))\n",
    "      \n",
    "# the model uses lags and rolling windows to look back in time\n",
    "n_lookback_periods = max(lags)\n",
    "lookback = pd.DateOffset(hours=n_lookback_periods)\n",
    "\n",
    "horizon = pd.DateOffset(hours=forecast_horizon)\n",
    "\n",
    "# now make the forecast query from context (refer to figure)\n",
    "X_pred, y_pred = make_forecasting_query(fulldata, TIME_COLUMN_NAME, TARGET_COLUMN_NAME,\n",
    "                                        forecast_origin, horizon, lookback)\n",
    "\n",
    "# show the forecast request aligned\n",
    "X_show = X_pred.copy()\n",
    "X_show[TARGET_COLUMN_NAME] = y_pred\n",
    "X_show"
   ]
  },
  {
   "cell_type": "markdown",
   "metadata": {},
   "source": [
    "Note that the forecast origin is at 17:00 for both time-series, and periods from 18:00 are to be forecast."
   ]
  },
  {
   "cell_type": "code",
   "execution_count": null,
   "metadata": {},
   "outputs": [],
   "source": [
    "# Now everything works\n",
    "y_pred_away, xy_away = fitted_model.forecast(X_pred, y_pred)\n",
    "\n",
    "# show the forecast aligned\n",
    "X_show = xy_away.reset_index()\n",
    "# without the generated features\n",
    "X_show[['date', 'time_series_id', 'ext_predictor', '_automl_target_col']]\n",
    "# prediction is in _automl_target_col"
   ]
  },
  {
   "cell_type": "markdown",
   "metadata": {},
   "source": [
    "## Forecasting farther than the forecast horizon <a id=\"recursive forecasting\"></a>\n",
    "When the forecast destination, or the latest date in the prediction data frame, is farther into the future than the specified forecast horizon, the `forecast()` function will still make point predictions out to the later date using a recursive operation mode. Internally, the method recursively applies the regular forecaster to generate context so that we can forecast further into the future. \n",
    "\n",
    "To illustrate the use-case and operation of recursive forecasting, we'll consider an example with a single time-series where the forecasting period directly follows the training period and is twice as long as the forecasting horizon given at training time.\n",
    "\n",
    "![Recursive_forecast_overview](recursive_forecast_overview_small.png)\n",
    "\n",
    "Internally, we apply the forecaster in an iterative manner and finish the forecast task in two interations. In the first iteration, we apply the forecaster and get the prediction for the first forecast-horizon periods (y_pred1). In the second iteraction, y_pred1 is used as the context to produce the prediction for the next forecast-horizon periods (y_pred2). The combination of (y_pred1 and y_pred2) gives the results for the total forecast periods. \n",
    "\n",
    "A caveat: forecast accuracy will likely be worse the farther we predict into the future since errors are compounded with recursive application of the forecaster.\n",
    "\n",
    "![Recursive_forecast_iter1](recursive_forecast_iter1.png)\n",
    "![Recursive_forecast_iter2](recursive_forecast_iter2.png)"
   ]
  },
  {
   "cell_type": "code",
   "execution_count": null,
   "metadata": {},
   "outputs": [],
   "source": [
    "# generate the same kind of test data we trained on, but with a single time-series and test period twice as long\n",
    "# as the forecast_horizon.\n",
    "_, _, X_test_long, y_test_long = get_timeseries(train_len=n_train_periods,\n",
    "                                                  test_len=forecast_horizon*2,\n",
    "                                                  time_column_name=TIME_COLUMN_NAME,\n",
    "                                                  target_column_name=TARGET_COLUMN_NAME,\n",
    "                                                  time_series_id_column_name=TIME_SERIES_ID_COLUMN_NAME,\n",
    "                                                  time_series_number=1)\n",
    "\n",
    "print(X_test_long.groupby(TIME_SERIES_ID_COLUMN_NAME)[TIME_COLUMN_NAME].min())\n",
    "print(X_test_long.groupby(TIME_SERIES_ID_COLUMN_NAME)[TIME_COLUMN_NAME].max())"
   ]
  },
  {
   "cell_type": "code",
   "execution_count": null,
   "metadata": {},
   "outputs": [],
   "source": [
    "# forecast() function will invoke the recursive forecast method internally.\n",
    "y_pred_long, X_trans_long = fitted_model.forecast(X_test_long)\n",
    "y_pred_long"
   ]
  },
  {
   "cell_type": "code",
   "execution_count": null,
   "metadata": {},
   "outputs": [],
   "source": [
    "# What forecast() function does in this case is equivalent to iterating it twice over the test set as the following. \n",
    "y_pred1, _ = fitted_model.forecast(X_test_long[:forecast_horizon])\n",
    "y_pred_all, _ = fitted_model.forecast(X_test_long, np.concatenate((y_pred1, np.full(forecast_horizon, np.nan))))\n",
    "np.array_equal(y_pred_all, y_pred_long)"
   ]
  },
  {
   "cell_type": "markdown",
   "metadata": {},
   "source": [
    "#### Confidence interval and distributional forecasts\n",
    "AutoML cannot currently estimate forecast errors beyond the forecast horizon set during training, so the `forecast_quantiles()` function will return missing values for quantiles not equal to 0.5 beyond the forecast horizon. "
   ]
  },
  {
   "cell_type": "code",
   "execution_count": null,
   "metadata": {},
   "outputs": [],
   "source": [
    "fitted_model.forecast_quantiles(X_test_long)"
   ]
  },
  {
   "cell_type": "markdown",
   "metadata": {},
   "source": [
    "Similarly with the simple senarios illustrated above, forecasting farther than the forecast horizon in other senarios like 'multiple time-series', 'Destination-date forecast', and 'forecast away from the training data' are also automatically handled by the `forecast()` function. "
   ]
  }
 ],
 "metadata": {
  "authors": [
   {
    "name": "jialiu"
   }
  ],
  "category": "tutorial",
  "compute": [
   "Remote"
  ],
  "datasets": [
   "None"
  ],
  "deployment": [
   "None"
  ],
  "exclude_from_index": false,
  "framework": [
   "Azure ML AutoML"
  ],
  "friendly_name": "Forecasting away from training data",
  "index_order": 3,
  "kernelspec": {
   "display_name": "Python (azure_automl)",
   "language": "python",
   "name": "azure_automl"
  },
  "language_info": {
   "codemirror_mode": {
    "name": "ipython",
    "version": 3
   },
   "file_extension": ".py",
   "mimetype": "text/x-python",
   "name": "python",
   "nbconvert_exporter": "python",
   "pygments_lexer": "ipython3",
   "version": "3.6.7"
  },
  "tags": [
   "Forecasting",
   "Confidence Intervals"
  ],
  "task": "Forecasting"
 },
 "nbformat": 4,
 "nbformat_minor": 2
}
